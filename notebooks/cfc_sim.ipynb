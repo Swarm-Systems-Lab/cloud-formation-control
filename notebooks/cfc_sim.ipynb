{
 "cells": [
  {
   "cell_type": "code",
   "execution_count": null,
   "metadata": {},
   "outputs": [],
   "source": [
    "\"\"\"\\\n",
    "# Copyright (C) 2024 Jesús Bautista Villar <jesbauti20@gmail.com>\n",
    "\"\"\"\n",
    "!python3 -V || python -V"
   ]
  },
  {
   "cell_type": "code",
   "execution_count": null,
   "metadata": {},
   "outputs": [],
   "source": [
    "import numpy as np\n",
    "import os\n",
    "import sys\n",
    "from tqdm import tqdm\n",
    "\n",
    "# Graphic tool\n",
    "from mpl_toolkits.axes_grid1.inset_locator import inset_axes, mark_inset\n",
    "import matplotlib.ticker as ticker\n",
    "import matplotlib.pyplot as plt\n",
    "\n",
    "# Configure matplotlib for paper figures\n",
    "import matplotlib\n",
    "matplotlib.rcParams[\"mathtext.fontset\"] = \"cm\"\n",
    "matplotlib.rc(\"font\", **{\"size\" : 12})\n",
    "\n",
    "# Animation tools\n",
    "from matplotlib.animation import FuncAnimation\n",
    "from IPython.display import HTML\n",
    "from matplotlib.animation import PillowWriter\n",
    "\n",
    "# --------------------------------------------------------------------------------------\n",
    "\n",
    "# Swarm Systems Lab PySimUtils\n",
    "from ssl_pysimutils import createDir, gen_Z_ring, uniform_distrib\n",
    "\n",
    "# Python project to path \n",
    "module_path = os.path.abspath(os.path.join('..'))\n",
    "if module_path not in sys.path:\n",
    "    sys.path.append(module_path)\n",
    "\n",
    "# Import the simulator\n",
    "from cfc.simulator import simulator\n",
    "\n",
    "# --------------------------------------------------------------------------------------\n",
    "\n",
    "# Output directory\n",
    "OUTPUT_PATH = os.path.join(\"..\", \"output\")\n",
    "\n",
    "createDir(OUTPUT_PATH)"
   ]
  },
  {
   "cell_type": "code",
   "execution_count": 12,
   "metadata": {},
   "outputs": [
    {
     "data": {
      "text/plain": [
       "1.0"
      ]
     },
     "execution_count": 12,
     "metadata": {},
     "output_type": "execute_result"
    }
   ],
   "source": [
    "p = np.array([[1,2],[1,4],[1,2]])\n",
    "pcx, pcy = np.sum(p, axis=0)/3\n",
    "pcx"
   ]
  },
  {
   "cell_type": "code",
   "execution_count": null,
   "metadata": {},
   "outputs": [],
   "source": [
    "# Generate the robots distribution and set the initial positions\n",
    "N = 10\n",
    "lims = [1.5, 2]\n",
    "rc0 = [0, 0]\n",
    "\n",
    "p0 = uniform_distrib(N=N, lims=lims, rc0=rc0)\n",
    "\n",
    "# Generate the graph\n",
    "Z = gen_Z_ring()\n",
    "\n",
    "# Generating the simulator class\n",
    "dt = 0.1\n",
    "lambda_d = [30, 5]\n",
    "\n",
    "sim = simulator(p0=p0, Z=Z, dt=dt)\n",
    "\n",
    "# ----------------------------------------------------------------------\n",
    "# Execute the simulation given a desired final time stamp\n",
    "# ----------------------------------------------------------------------\n",
    "tf = 15\n",
    "\n",
    "t_list = np.arange(0, tf, dt)\n",
    "for it in tqdm(range(len(t_list))):\n",
    "    sim.int_euler()"
   ]
  },
  {
   "cell_type": "code",
   "execution_count": null,
   "metadata": {},
   "outputs": [],
   "source": [
    "t_data = np.array(sim.data[\"t\"])\n",
    "p_data = np.array(sim.data[\"p\"])\n",
    "e_data = np.array(sim.data[\"e\"])\n",
    "\n",
    "\n",
    "# ----------------------------------------------------------------------\n",
    "\n",
    "fig = plt.figure()\n",
    "ax = fig.subplots()\n",
    "\n",
    "ax.plot(p_data[:,0,0], p_data[:,0,1])\n",
    "ax.set_aspect(\"equal\")\n",
    "ax.grid(True)\n",
    "plt.show()\n",
    "\n",
    "# ----------------------------------------------------------------------\n",
    "\n",
    "plt.plot(t_data, e_data)\n",
    "plt.title(r\"$e$\")\n",
    "plt.grid(True)\n",
    "# plt.ylim([-1,1])\n",
    "plt.show()"
   ]
  }
 ],
 "metadata": {
  "kernelspec": {
   "display_name": "Python 3 (ipykernel)",
   "language": "python",
   "name": "python3"
  },
  "language_info": {
   "codemirror_mode": {
    "name": "ipython",
    "version": 3
   },
   "file_extension": ".py",
   "mimetype": "text/x-python",
   "name": "python",
   "nbconvert_exporter": "python",
   "pygments_lexer": "ipython3",
   "version": "3.10.12"
  },
  "orig_nbformat": 4
 },
 "nbformat": 4,
 "nbformat_minor": 2
}
